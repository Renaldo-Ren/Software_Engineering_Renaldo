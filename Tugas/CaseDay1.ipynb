{
  "nbformat": 4,
  "nbformat_minor": 0,
  "metadata": {
    "colab": {
      "name": "CaseDay1.ipynb",
      "provenance": []
    },
    "kernelspec": {
      "name": "python3",
      "display_name": "Python 3"
    },
    "language_info": {
      "name": "python"
    }
  },
  "cells": [
    {
      "cell_type": "code",
      "metadata": {
        "colab": {
          "base_uri": "https://localhost:8080/"
        },
        "id": "wlrTlRVbsyxa",
        "outputId": "13e2739d-ae9f-4b58-989a-55f5cb35b251"
      },
      "source": [
        "#if (or) elif (or) else\n",
        "print(\"Sedang sakit di bagian mana?\")\n",
        "sakit = input() #Input bagian anggota tubuh yang sedang sakit\n",
        "\n",
        "##Mulai If Condition\n",
        "if sakit == \"kaki kiri\" or sakit == \"kaki kanan\" or sakit == \"kaki\" :\n",
        "  print(\"\\nSedang sakit di bagian kaki\")\n",
        "elif sakit == \"tangan kiri\" or sakit == \"tangan kanan\" or sakit == \"tangan\":\n",
        "  print(\"\\nSedang sakit di bagian tangan\")\n",
        "else:\n",
        "  print(\"\\nSedang tidak sakit di tangan maupun kaki\")\n",
        "\n",
        "## Ini diluar if\n",
        "print(\"\\nMaka akan segera di rawat dibagian {}\".format(sakit))"
      ],
      "execution_count": 16,
      "outputs": [
        {
          "output_type": "stream",
          "name": "stdout",
          "text": [
            "Sedang sakit di bagian mana?\n",
            "kepala\n",
            "\n",
            "Sedang tidak sakit di tangan maupun kaki\n",
            "\n",
            "Maka akan segera di rawat dibagian kepala\n"
          ]
        }
      ]
    }
  ]
}