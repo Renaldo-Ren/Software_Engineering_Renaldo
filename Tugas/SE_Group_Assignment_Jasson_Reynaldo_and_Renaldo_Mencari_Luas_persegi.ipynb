{
  "nbformat": 4,
  "nbformat_minor": 0,
  "metadata": {
    "colab": {
      "name": "SE_Group_Assignment_Jasson_Reynaldo_and_Renaldo_Mencari_Luas_persegi.ipynb",
      "provenance": []
    },
    "kernelspec": {
      "name": "python3",
      "display_name": "Python 3"
    },
    "language_info": {
      "name": "python"
    }
  },
  "cells": [
    {
      "cell_type": "code",
      "metadata": {
        "id": "fSqD5Un4xhBU"
      },
      "source": [
        "#SE Group assignment Jasson & Renaldo\n",
        "def luas_persegi(a):\n",
        "  return a*a"
      ],
      "execution_count": 1,
      "outputs": []
    },
    {
      "cell_type": "code",
      "metadata": {
        "colab": {
          "base_uri": "https://localhost:8080/"
        },
        "id": "m-A6FDPPxrRy",
        "outputId": "b1f34af9-6734-43cb-89e6-c427c750ad6d"
      },
      "source": [
        "print(\"Masukkan panjang sisi persegi: \")\n",
        "sisi = int(input())\n",
        "print(\"Luas persegi: \")\n",
        "luas_persegi(sisi)"
      ],
      "execution_count": 2,
      "outputs": [
        {
          "output_type": "stream",
          "name": "stdout",
          "text": [
            "Masukkan panjang sisi persegi: \n",
            "7\n",
            "Luas persegi: \n"
          ]
        },
        {
          "output_type": "execute_result",
          "data": {
            "text/plain": [
              "49"
            ]
          },
          "metadata": {},
          "execution_count": 2
        }
      ]
    }
  ]
}