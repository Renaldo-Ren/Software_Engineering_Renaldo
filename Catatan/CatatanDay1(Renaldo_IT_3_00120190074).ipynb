{
  "nbformat": 4,
  "nbformat_minor": 0,
  "metadata": {
    "colab": {
      "name": "CatatanDay1(Renaldo-IT 3-00120190074).ipynb",
      "provenance": []
    },
    "kernelspec": {
      "name": "python3",
      "display_name": "Python 3"
    },
    "language_info": {
      "name": "python"
    }
  },
  "cells": [
    {
      "cell_type": "code",
      "metadata": {
        "id": "BdP9l493b2Vs"
      },
      "source": [
        "#contoh-contoh variable\n",
        "\n",
        "a = 10 #Integer\n",
        "b = 3.14 #Float\n",
        "c = \"A\" #String\n",
        "d = \"Software Engineer\" #String\n",
        "e = 'A' #String\n",
        "f = \"Software Engineer\" #String\n",
        "g = True #Boolean\n",
        "h = False #Boolean\n",
        "i = [] #List\n",
        "j = [1,2,3] #List\n",
        "k = {} #Dictionary\n",
        "l = () #Tuple"
      ],
      "execution_count": 1,
      "outputs": []
    },
    {
      "cell_type": "code",
      "metadata": {
        "colab": {
          "base_uri": "https://localhost:8080/"
        },
        "id": "D428uLBOeE7j",
        "outputId": "95bc437b-85e9-468a-9b97-8bfa73d084ca"
      },
      "source": [
        "#Print berguna untuk debug\n",
        "\n",
        "print(d)\n",
        "print(2+4+2)\n",
        "print(\"Hello World!\")\n",
        "print(j)"
      ],
      "execution_count": 7,
      "outputs": [
        {
          "output_type": "stream",
          "name": "stdout",
          "text": [
            "Software Engineer\n",
            "8\n",
            "Hello World!\n",
            "[1, 2, 3]\n"
          ]
        }
      ]
    },
    {
      "cell_type": "code",
      "metadata": {
        "id": "WJDTQEmkez_t"
      },
      "source": [
        "nama = \"Ren\"\n",
        "umur = 20\n",
        "tempat = \"Jambi\""
      ],
      "execution_count": 10,
      "outputs": []
    },
    {
      "cell_type": "code",
      "metadata": {
        "colab": {
          "base_uri": "https://localhost:8080/"
        },
        "id": "TF6_PyP-f4Ox",
        "outputId": "dcf947d7-6dfb-4a62-cab6-c707af678336"
      },
      "source": [
        "#seperti scanf di c\n",
        "nama = input()"
      ],
      "execution_count": 13,
      "outputs": [
        {
          "name": "stdout",
          "output_type": "stream",
          "text": [
            "Renaldo\n"
          ]
        }
      ]
    },
    {
      "cell_type": "code",
      "metadata": {
        "colab": {
          "base_uri": "https://localhost:8080/"
        },
        "id": "W12e6z4BfhWX",
        "outputId": "8f232c47-96b7-4256-b386-07bb63001c33"
      },
      "source": [
        "#conatination\n",
        "print(\"Hai, namaku adalah \" + nama)\n",
        "print(\"Hai, namaku adalah {}\".format(\"Ren\"))\n",
        "print(\"Hai, namaku adalah {}\".format(nama))"
      ],
      "execution_count": 14,
      "outputs": [
        {
          "output_type": "stream",
          "name": "stdout",
          "text": [
            "Hai, namaku adalah Renaldo\n",
            "Hai, namaku adalah Ren\n",
            "Hai, namaku adalah Renaldo\n"
          ]
        }
      ]
    },
    {
      "cell_type": "code",
      "metadata": {
        "colab": {
          "base_uri": "https://localhost:8080/"
        },
        "id": "_xcv8Rv7fjZp",
        "outputId": "d04a4c08-3a5d-4ae3-bb03-a7bd834859b1"
      },
      "source": [
        "print(\"Hai, namaku adalah \" + nama + \", umurku \" + str(umur))\n",
        "print(\"Hai, namaku adalah \", nama ,\", umurku \", umur)\n",
        "print(\"Hai, namaku adalah {}, umurku {}, saya tinggal di {}\".format(nama, umur, tempat)) #Recommended"
      ],
      "execution_count": 25,
      "outputs": [
        {
          "output_type": "stream",
          "name": "stdout",
          "text": [
            "Hai, namaku adalah Renaldo, umurku 20\n",
            "Hai, namaku adalah  Renaldo , umurku  20\n",
            "Hai, namaku adalah Renaldo, umurku 20, saya tinggal di Jambi\n"
          ]
        }
      ]
    },
    {
      "cell_type": "code",
      "metadata": {
        "colab": {
          "base_uri": "https://localhost:8080/"
        },
        "id": "-bivPRGhgVby",
        "outputId": "ec89f84e-2f01-4218-8357-a55bf5e53751"
      },
      "source": [
        "import math\n",
        "a = 10\n",
        "b = 10\n",
        "#If else\n",
        "\n",
        "## Conditional Statement\n",
        "a == b\n",
        "a != b\n",
        "a < b\n",
        "a <= b\n",
        "a > b\n",
        "a >= b\n",
        "True and True\n",
        "False or True \n",
        "\n",
        "##Operator\n",
        "a + b\n",
        "a - b\n",
        "a * b\n",
        "a / b # 10 / 10 = 1.0 --> Float Division\n",
        "a // b # 10 // 10 = 1 --> Integer Division\n",
        "a ** b # 10^10 = 100\n",
        "a % b # Modulus\n",
        "a ** (1/2) # akar variable a, dimana a = 10\n",
        "math.sqrt(a) # akar variabel a\n",
        "math.sin(a)\n",
        "math.tan(a)\n",
        "math.cos(a)\n",
        "math.tanh(a)\n",
        "math.sinh(a)\n",
        "math.cosh(a)\n",
        "math.log(a)"
      ],
      "execution_count": 26,
      "outputs": [
        {
          "output_type": "execute_result",
          "data": {
            "text/plain": [
              "2.302585092994046"
            ]
          },
          "metadata": {},
          "execution_count": 26
        }
      ]
    },
    {
      "cell_type": "code",
      "metadata": {
        "colab": {
          "base_uri": "https://localhost:8080/"
        },
        "id": "gLLLjyySkwwa",
        "outputId": "1b1cba7b-a462-42c5-8197-6d17ea2749e9"
      },
      "source": [
        "if a == 10:\n",
        "  print(\"a sama dengan 10\")\n",
        "elif a > 10:\n",
        "  print(\"a lebih besar dari 10\")\n",
        "else:\n",
        "  print(\"a kurang dari 10\")\n",
        "  print(\"ini diluar if\")"
      ],
      "execution_count": 27,
      "outputs": [
        {
          "output_type": "stream",
          "name": "stdout",
          "text": [
            "a sama dengan 10\n"
          ]
        }
      ]
    },
    {
      "cell_type": "code",
      "metadata": {
        "id": "xB68vE8vj7nU"
      },
      "source": [
        "import math\n",
        "math.sin(360)"
      ],
      "execution_count": null,
      "outputs": []
    }
  ]
}